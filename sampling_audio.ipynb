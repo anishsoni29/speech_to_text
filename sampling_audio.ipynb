{
 "cells": [
  {
   "cell_type": "code",
   "execution_count": 1,
   "id": "e066b3f4",
   "metadata": {},
   "outputs": [
    {
     "name": "stderr",
     "output_type": "stream",
     "text": [
      "/Users/anishsoni/anaconda3/lib/python3.10/site-packages/tqdm/auto.py:21: TqdmWarning: IProgress not found. Please update jupyter and ipywidgets. See https://ipywidgets.readthedocs.io/en/stable/user_install.html\n",
      "  from .autonotebook import tqdm as notebook_tqdm\n",
      "/Users/anishsoni/anaconda3/lib/python3.10/site-packages/huggingface_hub/utils/_runtime.py:185: UserWarning: Pydantic is installed but cannot be imported. Please check your installation. `huggingface_hub` will default to not using Pydantic. Error message: '{e}'\n",
      "  warnings.warn(\n"
     ]
    },
    {
     "name": "stdout",
     "output_type": "stream",
     "text": [
      "4.39.1\n"
     ]
    }
   ],
   "source": [
    "import transformers\n",
    "print(transformers.__version__)"
   ]
  },
  {
   "cell_type": "markdown",
   "id": "99cd18ee",
   "metadata": {},
   "source": [
    "### Importing the Libraries"
   ]
  },
  {
   "cell_type": "code",
   "execution_count": 2,
   "id": "f0e3e2dd",
   "metadata": {},
   "outputs": [
    {
     "name": "stdout",
     "output_type": "stream",
     "text": [
      "Requirement already satisfied: librosa in /Users/anishsoni/anaconda3/lib/python3.10/site-packages (0.10.1)\n",
      "Requirement already satisfied: audioread>=2.1.9 in /Users/anishsoni/anaconda3/lib/python3.10/site-packages (from librosa) (3.0.1)\n",
      "Requirement already satisfied: numpy!=1.22.0,!=1.22.1,!=1.22.2,>=1.20.3 in /Users/anishsoni/anaconda3/lib/python3.10/site-packages (from librosa) (1.23.5)\n",
      "Requirement already satisfied: scipy>=1.2.0 in /Users/anishsoni/anaconda3/lib/python3.10/site-packages (from librosa) (1.11.2)\n",
      "Requirement already satisfied: scikit-learn>=0.20.0 in /Users/anishsoni/anaconda3/lib/python3.10/site-packages (from librosa) (1.3.0)\n",
      "Requirement already satisfied: joblib>=0.14 in /Users/anishsoni/anaconda3/lib/python3.10/site-packages (from librosa) (1.1.1)\n",
      "Requirement already satisfied: decorator>=4.3.0 in /Users/anishsoni/anaconda3/lib/python3.10/site-packages (from librosa) (5.1.1)\n",
      "Requirement already satisfied: numba>=0.51.0 in /Users/anishsoni/anaconda3/lib/python3.10/site-packages (from librosa) (0.56.4)\n",
      "Requirement already satisfied: soundfile>=0.12.1 in /Users/anishsoni/anaconda3/lib/python3.10/site-packages (from librosa) (0.12.1)\n",
      "Requirement already satisfied: pooch>=1.0 in /Users/anishsoni/anaconda3/lib/python3.10/site-packages (from librosa) (1.4.0)\n",
      "Requirement already satisfied: soxr>=0.3.2 in /Users/anishsoni/anaconda3/lib/python3.10/site-packages (from librosa) (0.3.7)\n",
      "Requirement already satisfied: typing-extensions>=4.1.1 in /Users/anishsoni/anaconda3/lib/python3.10/site-packages (from librosa) (4.5.0)\n",
      "Requirement already satisfied: lazy-loader>=0.1 in /Users/anishsoni/anaconda3/lib/python3.10/site-packages (from librosa) (0.3)\n",
      "Requirement already satisfied: msgpack>=1.0 in /Users/anishsoni/anaconda3/lib/python3.10/site-packages (from librosa) (1.0.3)\n",
      "Requirement already satisfied: llvmlite<0.40,>=0.39.0dev0 in /Users/anishsoni/anaconda3/lib/python3.10/site-packages (from numba>=0.51.0->librosa) (0.39.1)\n",
      "Requirement already satisfied: setuptools in /Users/anishsoni/anaconda3/lib/python3.10/site-packages (from numba>=0.51.0->librosa) (68.2.2)\n",
      "Requirement already satisfied: requests in /Users/anishsoni/anaconda3/lib/python3.10/site-packages (from pooch>=1.0->librosa) (2.31.0)\n",
      "Requirement already satisfied: packaging in /Users/anishsoni/anaconda3/lib/python3.10/site-packages (from pooch>=1.0->librosa) (23.2)\n",
      "Requirement already satisfied: appdirs in /Users/anishsoni/anaconda3/lib/python3.10/site-packages (from pooch>=1.0->librosa) (1.4.4)\n",
      "Requirement already satisfied: threadpoolctl>=2.0.0 in /Users/anishsoni/anaconda3/lib/python3.10/site-packages (from scikit-learn>=0.20.0->librosa) (2.2.0)\n",
      "Requirement already satisfied: cffi>=1.0 in /Users/anishsoni/anaconda3/lib/python3.10/site-packages (from soundfile>=0.12.1->librosa) (1.15.1)\n",
      "Requirement already satisfied: pycparser in /Users/anishsoni/anaconda3/lib/python3.10/site-packages (from cffi>=1.0->soundfile>=0.12.1->librosa) (2.21)\n",
      "Requirement already satisfied: charset-normalizer<4,>=2 in /Users/anishsoni/anaconda3/lib/python3.10/site-packages (from requests->pooch>=1.0->librosa) (2.0.4)\n",
      "Requirement already satisfied: idna<4,>=2.5 in /Users/anishsoni/anaconda3/lib/python3.10/site-packages (from requests->pooch>=1.0->librosa) (3.4)\n",
      "Requirement already satisfied: urllib3<3,>=1.21.1 in /Users/anishsoni/anaconda3/lib/python3.10/site-packages (from requests->pooch>=1.0->librosa) (1.26.14)\n",
      "Requirement already satisfied: certifi>=2017.4.17 in /Users/anishsoni/anaconda3/lib/python3.10/site-packages (from requests->pooch>=1.0->librosa) (2022.12.7)\n"
     ]
    }
   ],
   "source": [
    "!pip install librosa\n",
    "import librosa\n",
    "import torch\n",
    "import IPython.display as display\n",
    "from transformers import Wav2Vec2Processor, Wav2Vec2ForCTC\n",
    "import numpy as np"
   ]
  },
  {
   "cell_type": "markdown",
   "id": "2f3549d7",
   "metadata": {},
   "source": [
    "### Load Pretrained Model"
   ]
  },
  {
   "cell_type": "code",
   "execution_count": 3,
   "id": "a64cc923",
   "metadata": {},
   "outputs": [
    {
     "name": "stderr",
     "output_type": "stream",
     "text": [
      "Some weights of the model checkpoint at facebook/wav2vec2-base-960h were not used when initializing Wav2Vec2ForCTC: ['wav2vec2.encoder.pos_conv_embed.conv.weight_g', 'wav2vec2.encoder.pos_conv_embed.conv.weight_v']\n",
      "- This IS expected if you are initializing Wav2Vec2ForCTC from the checkpoint of a model trained on another task or with another architecture (e.g. initializing a BertForSequenceClassification model from a BertForPreTraining model).\n",
      "- This IS NOT expected if you are initializing Wav2Vec2ForCTC from the checkpoint of a model that you expect to be exactly identical (initializing a BertForSequenceClassification model from a BertForSequenceClassification model).\n",
      "Some weights of Wav2Vec2ForCTC were not initialized from the model checkpoint at facebook/wav2vec2-base-960h and are newly initialized: ['wav2vec2.encoder.pos_conv_embed.conv.parametrizations.weight.original0', 'wav2vec2.encoder.pos_conv_embed.conv.parametrizations.weight.original1', 'wav2vec2.masked_spec_embed']\n",
      "You should probably TRAIN this model on a down-stream task to be able to use it for predictions and inference.\n"
     ]
    }
   ],
   "source": [
    "\n",
    "\n",
    "tokenizer = Wav2Vec2Processor.from_pretrained(\"facebook/wav2vec2-base-960h\")\n",
    "model = Wav2Vec2ForCTC.from_pretrained(\"facebook/wav2vec2-base-960h\")"
   ]
  },
  {
   "cell_type": "markdown",
   "id": "484cb987",
   "metadata": {},
   "source": [
    "### Load Audio File"
   ]
  },
  {
   "cell_type": "code",
   "execution_count": 4,
   "id": "e945a512",
   "metadata": {},
   "outputs": [
    {
     "name": "stderr",
     "output_type": "stream",
     "text": [
      "/var/folders/7f/7tqk6h_s4kj09qwljz25pppr0000gn/T/ipykernel_81584/693630973.py:1: UserWarning: PySoundFile failed. Trying audioread instead.\n",
      "  audio, sampling_rate = librosa.load('audio2.m4a', sr=16000)\n",
      "/Users/anishsoni/anaconda3/lib/python3.10/site-packages/librosa/core/audio.py:183: FutureWarning: librosa.core.audio.__audioread_load\n",
      "\tDeprecated as of librosa version 0.10.0.\n",
      "\tIt will be removed in librosa version 1.0.\n",
      "  y, sr_native = __audioread_load(path, offset, duration, dtype)\n"
     ]
    }
   ],
   "source": [
    "audio, sampling_rate = librosa.load('audio2.m4a', sr=16000)"
   ]
  },
  {
   "cell_type": "code",
   "execution_count": 5,
   "id": "c0ac426a",
   "metadata": {},
   "outputs": [
    {
     "data": {
      "text/plain": [
       "(array([ 1.07660890e-06, -1.17009040e-06,  1.12084672e-06, ...,\n",
       "        -2.00128802e-12,  1.27613475e-11,  9.26747568e-12], dtype=float32),\n",
       " 16000)"
      ]
     },
     "execution_count": 5,
     "metadata": {},
     "output_type": "execute_result"
    }
   ],
   "source": [
    "audio, sampling_rate"
   ]
  },
  {
   "cell_type": "markdown",
   "id": "2ca7b790",
   "metadata": {},
   "source": [
    "### Play the audio"
   ]
  },
  {
   "cell_type": "code",
   "execution_count": 6,
   "id": "b15788b2",
   "metadata": {},
   "outputs": [
    {
     "data": {
      "text/html": [
       "\n",
       "                <audio  controls=\"controls\" autoplay=\"autoplay\">\n",
       "                    <source src=\"data:audio/mp4a-latm;base64,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\" type=\"audio/mp4a-latm\" />\n",
       "                    Your browser does not support the audio element.\n",
       "                </audio>\n",
       "              "
      ],
      "text/plain": [
       "<IPython.lib.display.Audio object>"
      ]
     },
     "execution_count": 6,
     "metadata": {},
     "output_type": "execute_result"
    }
   ],
   "source": [
    "display.Audio('audio2.m4a', autoplay = True)"
   ]
  },
  {
   "cell_type": "markdown",
   "id": "62ab431b",
   "metadata": {},
   "source": [
    "### Speech to Text"
   ]
  },
  {
   "cell_type": "code",
   "execution_count": 7,
   "id": "c5352db7",
   "metadata": {},
   "outputs": [
    {
     "name": "stderr",
     "output_type": "stream",
     "text": [
      "It is strongly recommended to pass the ``sampling_rate`` argument to this function. Failing to do so can result in silent errors that might be hard to debug.\n"
     ]
    },
    {
     "data": {
      "text/plain": [
       "tensor([[0.0004, 0.0004, 0.0004,  ..., 0.0004, 0.0004, 0.0004]])"
      ]
     },
     "execution_count": 7,
     "metadata": {},
     "output_type": "execute_result"
    }
   ],
   "source": [
    "\n",
    "\n",
    "input_values = tokenizer(audio, return_tensors = 'pt').input_values\n",
    "input_values"
   ]
  },
  {
   "cell_type": "code",
   "execution_count": 8,
   "id": "b03c9a61",
   "metadata": {},
   "outputs": [
    {
     "name": "stderr",
     "output_type": "stream",
     "text": [
      "It is strongly recommended to pass the ``sampling_rate`` argument to this function. Failing to do so can result in silent errors that might be hard to debug.\n"
     ]
    },
    {
     "data": {
      "text/plain": [
       "tensor([[0.0004, 0.0004, 0.0004,  ..., 0.0004, 0.0004, 0.0004]])"
      ]
     },
     "execution_count": 8,
     "metadata": {},
     "output_type": "execute_result"
    }
   ],
   "source": [
    "input_values = tokenizer(audio, return_tensors = 'pt').input_values\n",
    "input_values"
   ]
  },
  {
   "cell_type": "markdown",
   "id": "5ad1f9bc",
   "metadata": {},
   "source": [
    "#### Store logits (non-normalised predictions)"
   ]
  },
  {
   "cell_type": "code",
   "execution_count": 9,
   "id": "0ec90ee8",
   "metadata": {},
   "outputs": [
    {
     "data": {
      "text/plain": [
       "tensor([[[ 12.8706, -26.8070, -26.5690,  ...,  -7.2395,  -7.3453,  -7.6447],\n",
       "         [ 12.4742, -26.5900, -26.3720,  ...,  -7.2724,  -6.9627,  -7.4181],\n",
       "         [ 12.9114, -26.7893, -26.5507,  ...,  -7.2103,  -7.3575,  -7.7429],\n",
       "         ...,\n",
       "         [ 13.4797, -27.7836, -27.4969,  ...,  -7.5379,  -7.5912,  -7.9146],\n",
       "         [ 13.4874, -27.8826, -27.6168,  ...,  -7.6195,  -7.6742,  -7.9923],\n",
       "         [ 13.4662, -27.9084, -27.6467,  ...,  -7.6533,  -7.6553,  -8.0336]]],\n",
       "       grad_fn=<ViewBackward0>)"
      ]
     },
     "execution_count": 9,
     "metadata": {},
     "output_type": "execute_result"
    }
   ],
   "source": [
    "logits = model(input_values).logits\n",
    "logits"
   ]
  },
  {
   "cell_type": "markdown",
   "id": "efc9058f",
   "metadata": {},
   "source": [
    "#### Store prediction id's"
   ]
  },
  {
   "cell_type": "code",
   "execution_count": 10,
   "id": "eb65db80",
   "metadata": {},
   "outputs": [],
   "source": [
    "#passing the logit values to softmax\n",
    "predicted_ids = torch.argmax(logits, dim =-1)"
   ]
  },
  {
   "cell_type": "code",
   "execution_count": 11,
   "id": "2c4a5338",
   "metadata": {},
   "outputs": [],
   "source": [
    "# pass the prediction to the tokeniser\n",
    "transcriptions = tokenizer.decode(predicted_ids[0])"
   ]
  },
  {
   "cell_type": "code",
   "execution_count": 12,
   "id": "fd1f9dcf",
   "metadata": {},
   "outputs": [
    {
     "data": {
      "text/plain": [
       "\"HEE WHAT'S UP ARE YOU DOING\""
      ]
     },
     "execution_count": 12,
     "metadata": {},
     "output_type": "execute_result"
    }
   ],
   "source": [
    "transcriptions"
   ]
  },
  {
   "cell_type": "code",
   "execution_count": null,
   "id": "95f91c86",
   "metadata": {},
   "outputs": [],
   "source": []
  }
 ],
 "metadata": {
  "kernelspec": {
   "display_name": "Python 3 (ipykernel)",
   "language": "python",
   "name": "python3"
  },
  "language_info": {
   "codemirror_mode": {
    "name": "ipython",
    "version": 3
   },
   "file_extension": ".py",
   "mimetype": "text/x-python",
   "name": "python",
   "nbconvert_exporter": "python",
   "pygments_lexer": "ipython3",
   "version": "3.10.9"
  }
 },
 "nbformat": 4,
 "nbformat_minor": 5
}
